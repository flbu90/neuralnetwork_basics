{
 "cells": [
  {
   "cell_type": "code",
   "execution_count": 1,
   "metadata": {},
   "outputs": [
    {
     "name": "stderr",
     "output_type": "stream",
     "text": [
      "Using TensorFlow backend.\n",
      "c:\\users\\florian\\.conda\\envs\\dl\\lib\\site-packages\\tensorflow\\python\\framework\\dtypes.py:493: FutureWarning: Passing (type, 1) or '1type' as a synonym of type is deprecated; in a future version of numpy, it will be understood as (type, (1,)) / '(1,)type'.\n",
      "  _np_qint8 = np.dtype([(\"qint8\", np.int8, 1)])\n",
      "c:\\users\\florian\\.conda\\envs\\dl\\lib\\site-packages\\tensorflow\\python\\framework\\dtypes.py:494: FutureWarning: Passing (type, 1) or '1type' as a synonym of type is deprecated; in a future version of numpy, it will be understood as (type, (1,)) / '(1,)type'.\n",
      "  _np_quint8 = np.dtype([(\"quint8\", np.uint8, 1)])\n",
      "c:\\users\\florian\\.conda\\envs\\dl\\lib\\site-packages\\tensorflow\\python\\framework\\dtypes.py:495: FutureWarning: Passing (type, 1) or '1type' as a synonym of type is deprecated; in a future version of numpy, it will be understood as (type, (1,)) / '(1,)type'.\n",
      "  _np_qint16 = np.dtype([(\"qint16\", np.int16, 1)])\n",
      "c:\\users\\florian\\.conda\\envs\\dl\\lib\\site-packages\\tensorflow\\python\\framework\\dtypes.py:496: FutureWarning: Passing (type, 1) or '1type' as a synonym of type is deprecated; in a future version of numpy, it will be understood as (type, (1,)) / '(1,)type'.\n",
      "  _np_quint16 = np.dtype([(\"quint16\", np.uint16, 1)])\n",
      "c:\\users\\florian\\.conda\\envs\\dl\\lib\\site-packages\\tensorflow\\python\\framework\\dtypes.py:497: FutureWarning: Passing (type, 1) or '1type' as a synonym of type is deprecated; in a future version of numpy, it will be understood as (type, (1,)) / '(1,)type'.\n",
      "  _np_qint32 = np.dtype([(\"qint32\", np.int32, 1)])\n",
      "c:\\users\\florian\\.conda\\envs\\dl\\lib\\site-packages\\tensorflow\\python\\framework\\dtypes.py:502: FutureWarning: Passing (type, 1) or '1type' as a synonym of type is deprecated; in a future version of numpy, it will be understood as (type, (1,)) / '(1,)type'.\n",
      "  np_resource = np.dtype([(\"resource\", np.ubyte, 1)])\n"
     ]
    }
   ],
   "source": [
    "import pickle\n",
    "from keras.models import load_model\n",
    "\n",
    "# load mapping files\n",
    "with open(\"char_to_int.pickle\",\"rb\") as file:\n",
    "    char_to_int = pickle.load(file)\n",
    "\n",
    "with open(\"int_to_char.pickle\",\"rb\") as file:\n",
    "    int_to_char = pickle.load(file)\n",
    "\n",
    "# load text file\n",
    "with open(\"verwandlung.txt\", encoding=\"utf_8\", mode=\"r\") as file: # make sure its utf_8 encoding for german texts\n",
    "    contents = file.read()\n",
    "    \n",
    "full_text = \"\\n\".join(contents.split(\"\\n\")[59:1952])\n",
    "\n",
    "# load model weights\n",
    "model = load_model(\"LSTM_weights.hdf5\")"
   ]
  },
  {
   "cell_type": "code",
   "execution_count": 2,
   "metadata": {},
   "outputs": [
    {
     "name": "stdout",
     "output_type": "stream",
     "text": [
      "_________________________________________________________________\n",
      "Layer (type)                 Output Shape              Param #   \n",
      "=================================================================\n",
      "lstm_2 (LSTM)                (None, 128)               100864    \n",
      "_________________________________________________________________\n",
      "dense_2 (Dense)              (None, 68)                8772      \n",
      "=================================================================\n",
      "Total params: 109,636\n",
      "Trainable params: 109,636\n",
      "Non-trainable params: 0\n",
      "_________________________________________________________________\n"
     ]
    }
   ],
   "source": [
    "model.summary()"
   ]
  },
  {
   "cell_type": "code",
   "execution_count": 3,
   "metadata": {},
   "outputs": [
    {
     "name": "stdout",
     "output_type": "stream",
     "text": [
      "[[3.90328079e-01 8.12467560e-03 4.36414790e-04 1.69555633e-03\n",
      "  2.65258933e-07 2.48760529e-07 1.82345342e-02 1.16322731e-07\n",
      "  3.68886475e-07 1.36801030e-03 3.50967554e-07 5.24626500e-07\n",
      "  1.35812229e-06 6.89395529e-04 3.19102946e-06 1.05982821e-04\n",
      "  1.88128763e-06 3.68303663e-05 5.57894782e-06 8.36279739e-08\n",
      "  1.40827805e-01 5.76333434e-07 7.07984782e-07 7.55087845e-03\n",
      "  1.27158416e-02 6.18360122e-04 8.27565818e-05 1.04767375e-03\n",
      "  1.04893245e-01 1.14333750e-06 2.65955401e-04 9.51410737e-04\n",
      "  3.79850292e-07 2.57529649e-07 2.42548867e-05 2.71833087e-05\n",
      "  5.71845646e-07 3.61499104e-07 8.77789645e-08 6.15184348e-08\n",
      "  4.35526110e-03 2.16815079e-06 3.74408364e-02 5.50805235e-05\n",
      "  2.92668545e-07 1.09065818e-02 1.36260397e-07 1.49910909e-03\n",
      "  2.17042374e-03 3.65512110e-02 8.67891981e-09 6.81900383e-06\n",
      "  1.52631298e-01 2.50995101e-04 2.90771073e-04 2.22781990e-02\n",
      "  2.61840864e-06 1.11569101e-02 3.74342153e-06 4.72091369e-06\n",
      "  2.18393197e-05 3.03089321e-02 6.68498558e-07 3.49728651e-07\n",
      "  2.24300038e-07 7.95536664e-07 1.54079662e-05 1.48336233e-06]]\n"
     ]
    }
   ],
   "source": [
    "## Text generation: Pick random 40 chars from text. Let the network predict the missing char\n",
    "\n",
    "# Choose 40 chars\n",
    "line = full_text[100:140]\n",
    "\n",
    "# Map to int\n",
    "int_line = [char_to_int[c] for c in line]\n",
    "\n",
    "# Encode as one hot array\n",
    "from keras.utils import to_categorical\n",
    "int_line = to_categorical(int_line, num_classes = len(set(full_text)))\n",
    "line_input = int_line.reshape(1,40,68)\n",
    "\n",
    "# Feed to Network\n",
    "prediction = model.predict(x=line_input)\n",
    "print(prediction)"
   ]
  },
  {
   "cell_type": "code",
   "execution_count": 4,
   "metadata": {},
   "outputs": [],
   "source": [
    "# Map prediciton to char\n",
    "import numpy as np\n",
    "\n",
    "prediction = int_to_char[np.argmax(prediction[0])]"
   ]
  },
  {
   "cell_type": "code",
   "execution_count": 5,
   "metadata": {},
   "outputs": [
    {
     "name": "stdout",
     "output_type": "stream",
     "text": [
      "ungeheueren Ungeziefer verwandelt. Er la\n"
     ]
    }
   ],
   "source": [
    "print(line)"
   ]
  },
  {
   "cell_type": "code",
   "execution_count": 6,
   "metadata": {},
   "outputs": [
    {
     "data": {
      "text/plain": [
       "'elt. Er lag\\nauf seinem panzera'"
      ]
     },
     "execution_count": 6,
     "metadata": {},
     "output_type": "execute_result"
    }
   ],
   "source": [
    "full_text[130:160] # Prediciton is wrong. Doesnt matter go with it and see what the network predicts"
   ]
  },
  {
   "cell_type": "code",
   "execution_count": 8,
   "metadata": {},
   "outputs": [
    {
     "name": "stdout",
     "output_type": "stream",
     "text": [
      "ungeheueren Ungeziefer verwandelt. Er laußer sie zi mindeß unden dorf nicht vor ir fürde\n",
      "besondeismafter,\n",
      "denn umingon dach nicht\n",
      "stall ausg mit ersosseustelen, vernerst maßte\n",
      "und venderter dienen die alle, as hreöten werter, sich immährten verfulten allig,« racht inleingoher verder?« dural underte geöneskans beglieber und\n",
      "dur\n",
      "immürden und däß dieser Krüßtr,\n",
      "ander dab is des Verpaldere Blteb verun beit verhattebstrauß, die war, durdesching\n",
      "einerzungeiderfttglaugen köfnange, die Fanden Horen ja hrendistreit  auswofnnen der danon um,\n",
      "der Varer umrächtlich brarande ihn wogen sich?« rach joderbeinen Zeit übersichtstübern umdegenden in die Mitter ge ulüten und; umschrißte Seinenewer. \n",
      "Ann die Gregor denn sichen Loben Vürlics vessellig stüber patrist bes was den Vo erwaum sie arst un dieremit auch von se or dien aufzurer,«\n",
      "speden Kohm der seinen Gesohal, augengebogam glesches nächten im eroter; Ihlen\n",
      "Verschoftre vergespeo vernwonn, däßte er dast daß, erstont dochtstendien auch fielerwurden,« dannt zlier därsichtezleiverFüfangschle"
     ]
    }
   ],
   "source": [
    "## Task: Predict more than one char\n",
    "\n",
    "# What we have: \"ungeheueren Ungeziefer verwandelt. Er la\" + prediction \"n\"\n",
    "# Next step is to go with the prediction: \"(remove first char)ngeheueren Ungeziefer verwandelt. Er lan(add prediction)\"\n",
    "\n",
    "line = full_text[100:140]\n",
    "\n",
    "\n",
    "# Since we need these steps over and over again create prediction function\n",
    "def predict_char(line):\n",
    "\n",
    "    # Map to int\n",
    "    int_line = [char_to_int[c] for c in line]\n",
    "\n",
    "    # Encode as one hot array\n",
    "    int_line = to_categorical(int_line, num_classes = len(set(full_text)))\n",
    "    line_input = int_line.reshape(1,40,68)\n",
    "\n",
    "    # Feed to Network\n",
    "    prediction = model.predict(x=line_input)\n",
    "    # prediction = int_to_char[np.argmax(prediction[0])] Always picking the best of argmax leads to a loop in the output text\n",
    "    # Workaround is maybe to choose best out of 3 or sth.  \n",
    "    prediction = prediction[0]\n",
    "    prediction = np.random.choice(len(set(full_text)), 1, p=prediction)[0]\n",
    "    prediction = int_to_char[prediction]\n",
    "    \n",
    "    return prediction\n",
    "\n",
    "pred_counter = 1000 # how many words do you want to predict?\n",
    "i=0\n",
    "old_line = full_text[(100):(140)]  \n",
    "print(old_line, end=\"\")\n",
    "\n",
    "while i < pred_counter:\n",
    "    \n",
    "    prediction = predict_char(line)\n",
    "    line = line[1:] + prediction # line[1:] drops first element of the string\n",
    "    \n",
    "    i+=1\n",
    "    print(prediction, end=\"\")\n"
   ]
  },
  {
   "cell_type": "code",
   "execution_count": null,
   "metadata": {},
   "outputs": [],
   "source": []
  },
  {
   "cell_type": "code",
   "execution_count": null,
   "metadata": {},
   "outputs": [],
   "source": []
  }
 ],
 "metadata": {
  "kernelspec": {
   "display_name": "Python 3",
   "language": "python",
   "name": "python3"
  },
  "language_info": {
   "codemirror_mode": {
    "name": "ipython",
    "version": 3
   },
   "file_extension": ".py",
   "mimetype": "text/x-python",
   "name": "python",
   "nbconvert_exporter": "python",
   "pygments_lexer": "ipython3",
   "version": "3.6.10"
  }
 },
 "nbformat": 4,
 "nbformat_minor": 4
}
