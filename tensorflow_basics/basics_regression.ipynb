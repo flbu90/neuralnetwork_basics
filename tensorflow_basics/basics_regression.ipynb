{
 "cells": [
  {
   "cell_type": "markdown",
   "metadata": {},
   "source": [
    "The task is to aproximate the median house value of each block from the values of the rest of the variables. \n",
    "\n",
    "This data set contains information about all the block groups in California from the 1990 Census. http://www.liaad.up.pt/~ltorgo/Regression/DataSets.html."
   ]
  },
  {
   "cell_type": "code",
   "execution_count": 1,
   "metadata": {
    "scrolled": true
   },
   "outputs": [
    {
     "name": "stderr",
     "output_type": "stream",
     "text": [
      "c:\\users\\florian\\.conda\\envs\\tfdl\\lib\\site-packages\\tensorflow\\python\\framework\\dtypes.py:458: FutureWarning: Passing (type, 1) or '1type' as a synonym of type is deprecated; in a future version of numpy, it will be understood as (type, (1,)) / '(1,)type'.\n",
      "  _np_qint8 = np.dtype([(\"qint8\", np.int8, 1)])\n",
      "c:\\users\\florian\\.conda\\envs\\tfdl\\lib\\site-packages\\tensorflow\\python\\framework\\dtypes.py:459: FutureWarning: Passing (type, 1) or '1type' as a synonym of type is deprecated; in a future version of numpy, it will be understood as (type, (1,)) / '(1,)type'.\n",
      "  _np_quint8 = np.dtype([(\"quint8\", np.uint8, 1)])\n",
      "c:\\users\\florian\\.conda\\envs\\tfdl\\lib\\site-packages\\tensorflow\\python\\framework\\dtypes.py:460: FutureWarning: Passing (type, 1) or '1type' as a synonym of type is deprecated; in a future version of numpy, it will be understood as (type, (1,)) / '(1,)type'.\n",
      "  _np_qint16 = np.dtype([(\"qint16\", np.int16, 1)])\n",
      "c:\\users\\florian\\.conda\\envs\\tfdl\\lib\\site-packages\\tensorflow\\python\\framework\\dtypes.py:461: FutureWarning: Passing (type, 1) or '1type' as a synonym of type is deprecated; in a future version of numpy, it will be understood as (type, (1,)) / '(1,)type'.\n",
      "  _np_quint16 = np.dtype([(\"quint16\", np.uint16, 1)])\n",
      "c:\\users\\florian\\.conda\\envs\\tfdl\\lib\\site-packages\\tensorflow\\python\\framework\\dtypes.py:462: FutureWarning: Passing (type, 1) or '1type' as a synonym of type is deprecated; in a future version of numpy, it will be understood as (type, (1,)) / '(1,)type'.\n",
      "  _np_qint32 = np.dtype([(\"qint32\", np.int32, 1)])\n",
      "c:\\users\\florian\\.conda\\envs\\tfdl\\lib\\site-packages\\tensorflow\\python\\framework\\dtypes.py:465: FutureWarning: Passing (type, 1) or '1type' as a synonym of type is deprecated; in a future version of numpy, it will be understood as (type, (1,)) / '(1,)type'.\n",
      "  np_resource = np.dtype([(\"resource\", np.ubyte, 1)])\n"
     ]
    }
   ],
   "source": [
    "import pandas as pd\n",
    "from sklearn.model_selection import train_test_split\n",
    "from sklearn.preprocessing import MinMaxScaler\n",
    "import tensorflow as tf\n",
    "from sklearn.metrics import mean_squared_error"
   ]
  },
  {
   "cell_type": "code",
   "execution_count": 2,
   "metadata": {},
   "outputs": [
    {
     "data": {
      "text/html": [
       "<div>\n",
       "<style scoped>\n",
       "    .dataframe tbody tr th:only-of-type {\n",
       "        vertical-align: middle;\n",
       "    }\n",
       "\n",
       "    .dataframe tbody tr th {\n",
       "        vertical-align: top;\n",
       "    }\n",
       "\n",
       "    .dataframe thead th {\n",
       "        text-align: right;\n",
       "    }\n",
       "</style>\n",
       "<table border=\"1\" class=\"dataframe\">\n",
       "  <thead>\n",
       "    <tr style=\"text-align: right;\">\n",
       "      <th></th>\n",
       "      <th>housingMedianAge</th>\n",
       "      <th>totalRooms</th>\n",
       "      <th>totalBedrooms</th>\n",
       "      <th>population</th>\n",
       "      <th>households</th>\n",
       "      <th>medianIncome</th>\n",
       "      <th>medianHouseValue</th>\n",
       "    </tr>\n",
       "  </thead>\n",
       "  <tbody>\n",
       "    <tr>\n",
       "      <th>0</th>\n",
       "      <td>41.0</td>\n",
       "      <td>880.0</td>\n",
       "      <td>129.0</td>\n",
       "      <td>322.0</td>\n",
       "      <td>126.0</td>\n",
       "      <td>8.3252</td>\n",
       "      <td>452600.0</td>\n",
       "    </tr>\n",
       "    <tr>\n",
       "      <th>1</th>\n",
       "      <td>21.0</td>\n",
       "      <td>7099.0</td>\n",
       "      <td>1106.0</td>\n",
       "      <td>2401.0</td>\n",
       "      <td>1138.0</td>\n",
       "      <td>8.3014</td>\n",
       "      <td>358500.0</td>\n",
       "    </tr>\n",
       "    <tr>\n",
       "      <th>2</th>\n",
       "      <td>52.0</td>\n",
       "      <td>1467.0</td>\n",
       "      <td>190.0</td>\n",
       "      <td>496.0</td>\n",
       "      <td>177.0</td>\n",
       "      <td>7.2574</td>\n",
       "      <td>352100.0</td>\n",
       "    </tr>\n",
       "    <tr>\n",
       "      <th>3</th>\n",
       "      <td>52.0</td>\n",
       "      <td>1274.0</td>\n",
       "      <td>235.0</td>\n",
       "      <td>558.0</td>\n",
       "      <td>219.0</td>\n",
       "      <td>5.6431</td>\n",
       "      <td>341300.0</td>\n",
       "    </tr>\n",
       "    <tr>\n",
       "      <th>4</th>\n",
       "      <td>52.0</td>\n",
       "      <td>1627.0</td>\n",
       "      <td>280.0</td>\n",
       "      <td>565.0</td>\n",
       "      <td>259.0</td>\n",
       "      <td>3.8462</td>\n",
       "      <td>342200.0</td>\n",
       "    </tr>\n",
       "  </tbody>\n",
       "</table>\n",
       "</div>"
      ],
      "text/plain": [
       "   housingMedianAge  totalRooms  totalBedrooms  population  households  \\\n",
       "0              41.0       880.0          129.0       322.0       126.0   \n",
       "1              21.0      7099.0         1106.0      2401.0      1138.0   \n",
       "2              52.0      1467.0          190.0       496.0       177.0   \n",
       "3              52.0      1274.0          235.0       558.0       219.0   \n",
       "4              52.0      1627.0          280.0       565.0       259.0   \n",
       "\n",
       "   medianIncome  medianHouseValue  \n",
       "0        8.3252          452600.0  \n",
       "1        8.3014          358500.0  \n",
       "2        7.2574          352100.0  \n",
       "3        5.6431          341300.0  \n",
       "4        3.8462          342200.0  "
      ]
     },
     "execution_count": 2,
     "metadata": {},
     "output_type": "execute_result"
    }
   ],
   "source": [
    "dataset = pd.read_csv('cal_housing_clean.csv')\n",
    "dataset.head()"
   ]
  },
  {
   "cell_type": "code",
   "execution_count": 3,
   "metadata": {},
   "outputs": [
    {
     "data": {
      "text/plain": [
       "Index(['housingMedianAge', 'totalRooms', 'totalBedrooms', 'population',\n",
       "       'households', 'medianIncome', 'medianHouseValue'],\n",
       "      dtype='object')"
      ]
     },
     "execution_count": 3,
     "metadata": {},
     "output_type": "execute_result"
    }
   ],
   "source": [
    "dataset.columns"
   ]
  },
  {
   "cell_type": "code",
   "execution_count": 4,
   "metadata": {},
   "outputs": [],
   "source": [
    "# Declare features and labels\n",
    "x_data = dataset.drop('medianHouseValue',axis=1)\n",
    "labels = dataset['medianHouseValue']\n",
    "\n",
    "# Perform a train test split 70/30\n",
    "x_train, x_test, y_train, y_test = train_test_split(x_data, labels, test_size=0.30)"
   ]
  },
  {
   "cell_type": "code",
   "execution_count": 5,
   "metadata": {},
   "outputs": [],
   "source": [
    "# Scale the feature data\n",
    "scaler = MinMaxScaler()\n",
    "scaler.fit(x_train)\n",
    "x_train = pd.DataFrame(data=scaler.transform(x_train), columns=x_train.columns, index=x_train.index)\n",
    "x_test = pd.DataFrame(data=scaler.transform(x_test), columns=x_test.columns, index=x_test.index)"
   ]
  },
  {
   "cell_type": "code",
   "execution_count": 6,
   "metadata": {},
   "outputs": [],
   "source": [
    "# Adding the feature columns to Tensorflow\n",
    "# Since all values a continuus using numeric_column\n",
    "housingMedianAge = tf.feature_column.numeric_column('housingMedianAge')\n",
    "totalRooms = tf.feature_column.numeric_column('totalRooms')\n",
    "totalBedrooms = tf.feature_column.numeric_column('totalBedrooms')\n",
    "population = tf.feature_column.numeric_column('population')\n",
    "households = tf.feature_column.numeric_column('households')\n",
    "medianIncome = tf.feature_column.numeric_column('medianIncome')\n",
    "\n",
    "feat_cols = [housingMedianAge, totalRooms, totalBedrooms, population, households, medianIncome]"
   ]
  },
  {
   "cell_type": "code",
   "execution_count": 16,
   "metadata": {},
   "outputs": [
    {
     "name": "stdout",
     "output_type": "stream",
     "text": [
      "INFO:tensorflow:Using default config.\n",
      "WARNING:tensorflow:Using temporary folder as model directory: C:\\Users\\Florian\\AppData\\Local\\Temp\\tmpegvk89f1\n",
      "INFO:tensorflow:Using config: {'_session_config': None, '_save_checkpoints_steps': None, '_log_step_count_steps': 100, '_keep_checkpoint_every_n_hours': 10000, '_save_summary_steps': 100, '_keep_checkpoint_max': 5, '_tf_random_seed': 1, '_model_dir': 'C:\\\\Users\\\\Florian\\\\AppData\\\\Local\\\\Temp\\\\tmpegvk89f1', '_save_checkpoints_secs': 600}\n",
      "INFO:tensorflow:Create CheckpointSaverHook.\n",
      "INFO:tensorflow:Saving checkpoints for 1 into C:\\Users\\Florian\\AppData\\Local\\Temp\\tmpegvk89f1\\model.ckpt.\n",
      "INFO:tensorflow:loss = 49225064000.0, step = 1\n",
      "INFO:tensorflow:global_step/sec: 581.843\n",
      "INFO:tensorflow:loss = 298524870000.0, step = 101 (0.172 sec)\n",
      "INFO:tensorflow:global_step/sec: 711.14\n",
      "INFO:tensorflow:loss = 191109090000.0, step = 201 (0.141 sec)\n",
      "INFO:tensorflow:global_step/sec: 800.037\n",
      "INFO:tensorflow:loss = 53115180000.0, step = 301 (0.125 sec)\n",
      "INFO:tensorflow:global_step/sec: 581.839\n",
      "INFO:tensorflow:loss = 141288650000.0, step = 401 (0.172 sec)\n",
      "INFO:tensorflow:global_step/sec: 800.04\n",
      "INFO:tensorflow:loss = 449282300000.0, step = 501 (0.125 sec)\n",
      "INFO:tensorflow:global_step/sec: 800.026\n",
      "INFO:tensorflow:loss = 325935100000.0, step = 601 (0.125 sec)\n",
      "INFO:tensorflow:global_step/sec: 800.043\n",
      "INFO:tensorflow:loss = 322485100000.0, step = 701 (0.141 sec)\n",
      "INFO:tensorflow:global_step/sec: 711.141\n",
      "INFO:tensorflow:loss = 165770740000.0, step = 801 (0.125 sec)\n",
      "INFO:tensorflow:global_step/sec: 800.035\n",
      "INFO:tensorflow:loss = 140458070000.0, step = 901 (0.156 sec)\n",
      "INFO:tensorflow:global_step/sec: 711.141\n",
      "INFO:tensorflow:loss = 353914550000.0, step = 1001 (0.125 sec)\n",
      "INFO:tensorflow:global_step/sec: 800.031\n",
      "INFO:tensorflow:loss = 301435750000.0, step = 1101 (0.109 sec)\n",
      "INFO:tensorflow:global_step/sec: 800.038\n",
      "INFO:tensorflow:loss = 104136430000.0, step = 1201 (0.125 sec)\n",
      "INFO:tensorflow:global_step/sec: 800.034\n",
      "INFO:tensorflow:loss = 528546920000.0, step = 1301 (0.141 sec)\n",
      "INFO:tensorflow:global_step/sec: 800.034\n",
      "INFO:tensorflow:loss = 251953250000.0, step = 1401 (0.109 sec)\n",
      "INFO:tensorflow:global_step/sec: 800.026\n",
      "INFO:tensorflow:loss = 140335120000.0, step = 1501 (0.125 sec)\n",
      "INFO:tensorflow:global_step/sec: 640.033\n",
      "INFO:tensorflow:loss = 380895760000.0, step = 1601 (0.156 sec)\n",
      "INFO:tensorflow:global_step/sec: 640.028\n",
      "INFO:tensorflow:loss = 146875550000.0, step = 1701 (0.156 sec)\n",
      "INFO:tensorflow:global_step/sec: 800.032\n",
      "INFO:tensorflow:loss = 359735100000.0, step = 1801 (0.125 sec)\n",
      "INFO:tensorflow:global_step/sec: 711.14\n",
      "INFO:tensorflow:loss = 145397780000.0, step = 1901 (0.141 sec)\n",
      "INFO:tensorflow:global_step/sec: 640.029\n",
      "INFO:tensorflow:loss = 100233040000.0, step = 2001 (0.156 sec)\n",
      "INFO:tensorflow:global_step/sec: 800.023\n",
      "INFO:tensorflow:loss = 169780100000.0, step = 2101 (0.141 sec)\n",
      "INFO:tensorflow:global_step/sec: 640.033\n",
      "INFO:tensorflow:loss = 335035560000.0, step = 2201 (0.141 sec)\n",
      "INFO:tensorflow:global_step/sec: 640.028\n",
      "INFO:tensorflow:loss = 115481130000.0, step = 2301 (0.156 sec)\n",
      "INFO:tensorflow:global_step/sec: 711.139\n",
      "INFO:tensorflow:loss = 99367610000.0, step = 2401 (0.141 sec)\n",
      "INFO:tensorflow:global_step/sec: 800.04\n",
      "INFO:tensorflow:loss = 139570250000.0, step = 2501 (0.125 sec)\n",
      "INFO:tensorflow:global_step/sec: 711.133\n",
      "INFO:tensorflow:loss = 514960600000.0, step = 2601 (0.141 sec)\n",
      "INFO:tensorflow:global_step/sec: 800.04\n",
      "INFO:tensorflow:loss = 427400330000.0, step = 2701 (0.125 sec)\n",
      "INFO:tensorflow:global_step/sec: 800.034\n",
      "INFO:tensorflow:loss = 232523500000.0, step = 2801 (0.141 sec)\n",
      "INFO:tensorflow:global_step/sec: 711.138\n",
      "INFO:tensorflow:loss = 66743538000.0, step = 2901 (0.125 sec)\n",
      "INFO:tensorflow:global_step/sec: 800.04\n",
      "INFO:tensorflow:loss = 49197584000.0, step = 3001 (0.125 sec)\n",
      "INFO:tensorflow:global_step/sec: 800.038\n",
      "INFO:tensorflow:loss = 345682150000.0, step = 3101 (0.125 sec)\n",
      "INFO:tensorflow:global_step/sec: 711.142\n",
      "INFO:tensorflow:loss = 147156340000.0, step = 3201 (0.141 sec)\n",
      "INFO:tensorflow:global_step/sec: 581.842\n",
      "INFO:tensorflow:loss = 30336180000.0, step = 3301 (0.172 sec)\n",
      "INFO:tensorflow:global_step/sec: 800.021\n",
      "INFO:tensorflow:loss = 147837500000.0, step = 3401 (0.125 sec)\n",
      "INFO:tensorflow:global_step/sec: 800.037\n",
      "INFO:tensorflow:loss = 551931350000.0, step = 3501 (0.125 sec)\n",
      "INFO:tensorflow:global_step/sec: 800.041\n",
      "INFO:tensorflow:loss = 114229540000.0, step = 3601 (0.125 sec)\n",
      "INFO:tensorflow:global_step/sec: 800.037\n",
      "INFO:tensorflow:loss = 187472690000.0, step = 3701 (0.125 sec)\n",
      "INFO:tensorflow:global_step/sec: 800.024\n",
      "INFO:tensorflow:loss = 101624040000.0, step = 3801 (0.125 sec)\n",
      "INFO:tensorflow:global_step/sec: 800.035\n",
      "INFO:tensorflow:loss = 119118635000.0, step = 3901 (0.125 sec)\n",
      "INFO:tensorflow:global_step/sec: 800.044\n",
      "INFO:tensorflow:loss = 211264180000.0, step = 4001 (0.125 sec)\n",
      "INFO:tensorflow:global_step/sec: 800.035\n",
      "INFO:tensorflow:loss = 115326510000.0, step = 4101 (0.125 sec)\n",
      "INFO:tensorflow:global_step/sec: 800.031\n",
      "INFO:tensorflow:loss = 103190225000.0, step = 4201 (0.125 sec)\n",
      "INFO:tensorflow:global_step/sec: 800.024\n",
      "INFO:tensorflow:loss = 440226550000.0, step = 4301 (0.125 sec)\n",
      "INFO:tensorflow:global_step/sec: 800.044\n",
      "INFO:tensorflow:loss = 272944450000.0, step = 4401 (0.125 sec)\n",
      "INFO:tensorflow:global_step/sec: 800.035\n",
      "INFO:tensorflow:loss = 484132500000.0, step = 4501 (0.125 sec)\n",
      "INFO:tensorflow:global_step/sec: 800.024\n",
      "INFO:tensorflow:loss = 187243250000.0, step = 4601 (0.125 sec)\n",
      "INFO:tensorflow:global_step/sec: 800.046\n",
      "INFO:tensorflow:loss = 129931880000.0, step = 4701 (0.125 sec)\n",
      "INFO:tensorflow:global_step/sec: 800.024\n",
      "INFO:tensorflow:loss = 137646000000.0, step = 4801 (0.125 sec)\n",
      "INFO:tensorflow:global_step/sec: 800.038\n",
      "INFO:tensorflow:loss = 110685900000.0, step = 4901 (0.125 sec)\n",
      "INFO:tensorflow:Saving checkpoints for 5000 into C:\\Users\\Florian\\AppData\\Local\\Temp\\tmpegvk89f1\\model.ckpt.\n",
      "INFO:tensorflow:Loss for final step: 125714170000.0.\n"
     ]
    },
    {
     "data": {
      "text/plain": [
       "<tensorflow.python.estimator.canned.dnn.DNNRegressor at 0x1c92d937400>"
      ]
     },
     "execution_count": 16,
     "metadata": {},
     "output_type": "execute_result"
    }
   ],
   "source": [
    "# Create the input function for tensorflow\n",
    "input_func = tf.estimator.inputs.pandas_input_fn(x = x_train, y=y_train, batch_size=5, num_epochs=500, shuffle=True)\n",
    "\n",
    "# Create DNN Regression Model\n",
    "dnn_model = tf.estimator.DNNRegressor(hidden_units=[2,2,2], feature_columns=feat_cols)\n",
    "dnn_model.train(input_fn=input_func,steps=5000)"
   ]
  },
  {
   "cell_type": "code",
   "execution_count": 17,
   "metadata": {},
   "outputs": [
    {
     "name": "stdout",
     "output_type": "stream",
     "text": [
      "INFO:tensorflow:Starting evaluation at 2020-02-26-15:21:23\n",
      "INFO:tensorflow:Restoring parameters from C:\\Users\\Florian\\AppData\\Local\\Temp\\tmpegvk89f1\\model.ckpt-5000\n",
      "INFO:tensorflow:Finished evaluation at 2020-02-26-15:21:23\n",
      "INFO:tensorflow:Saving dict for global step 5000: average_loss = 34011250000.0, global_step = 5000, loss = 210597660000000.0\n"
     ]
    },
    {
     "data": {
      "text/plain": [
       "{'average_loss': 34011250000.0, 'global_step': 5000, 'loss': 210597660000000.0}"
      ]
     },
     "execution_count": 17,
     "metadata": {},
     "output_type": "execute_result"
    }
   ],
   "source": [
    "# Model evaluation\n",
    "eval_input_func = tf.estimator.inputs.pandas_input_fn(x=x_test, y= y_test, batch_size=len(x_test),shuffle=False)\n",
    "dnn_model.evaluate(eval_input_func)"
   ]
  },
  {
   "cell_type": "code",
   "execution_count": 18,
   "metadata": {},
   "outputs": [
    {
     "name": "stdout",
     "output_type": "stream",
     "text": [
      "INFO:tensorflow:Restoring parameters from C:\\Users\\Florian\\AppData\\Local\\Temp\\tmpegvk89f1\\model.ckpt-5000\n"
     ]
    },
    {
     "data": {
      "text/plain": [
       "184421.3986307136"
      ]
     },
     "execution_count": 18,
     "metadata": {},
     "output_type": "execute_result"
    }
   ],
   "source": [
    "# Prediction\n",
    "predict_input_func = tf.estimator.inputs.pandas_input_fn(x=x_test, y=None, batch_size=len(x_test), shuffle=False)\n",
    "pred = dnn_model.predict(predict_input_func) # Returns a generator\n",
    "\n",
    "predictions = list(pred)\n",
    "\n",
    "# Grab y prediction values\n",
    "final_preds = []\n",
    "for pred in predictions:\n",
    "    final_preds.append(pred['predictions'])\n",
    "\n",
    "mean_squared_error(y_test, final_preds)**0.5"
   ]
  },
  {
   "cell_type": "code",
   "execution_count": 19,
   "metadata": {},
   "outputs": [
    {
     "data": {
      "text/html": [
       "<div>\n",
       "<style scoped>\n",
       "    .dataframe tbody tr th:only-of-type {\n",
       "        vertical-align: middle;\n",
       "    }\n",
       "\n",
       "    .dataframe tbody tr th {\n",
       "        vertical-align: top;\n",
       "    }\n",
       "\n",
       "    .dataframe thead th {\n",
       "        text-align: right;\n",
       "    }\n",
       "</style>\n",
       "<table border=\"1\" class=\"dataframe\">\n",
       "  <thead>\n",
       "    <tr style=\"text-align: right;\">\n",
       "      <th></th>\n",
       "      <th>count</th>\n",
       "      <th>mean</th>\n",
       "      <th>std</th>\n",
       "      <th>min</th>\n",
       "      <th>25%</th>\n",
       "      <th>50%</th>\n",
       "      <th>75%</th>\n",
       "      <th>max</th>\n",
       "    </tr>\n",
       "  </thead>\n",
       "  <tbody>\n",
       "    <tr>\n",
       "      <th>housingMedianAge</th>\n",
       "      <td>20640.0</td>\n",
       "      <td>28.639486</td>\n",
       "      <td>12.585558</td>\n",
       "      <td>1.0000</td>\n",
       "      <td>18.0000</td>\n",
       "      <td>29.0000</td>\n",
       "      <td>37.00000</td>\n",
       "      <td>52.0000</td>\n",
       "    </tr>\n",
       "    <tr>\n",
       "      <th>totalRooms</th>\n",
       "      <td>20640.0</td>\n",
       "      <td>2635.763081</td>\n",
       "      <td>2181.615252</td>\n",
       "      <td>2.0000</td>\n",
       "      <td>1447.7500</td>\n",
       "      <td>2127.0000</td>\n",
       "      <td>3148.00000</td>\n",
       "      <td>39320.0000</td>\n",
       "    </tr>\n",
       "    <tr>\n",
       "      <th>totalBedrooms</th>\n",
       "      <td>20640.0</td>\n",
       "      <td>537.898014</td>\n",
       "      <td>421.247906</td>\n",
       "      <td>1.0000</td>\n",
       "      <td>295.0000</td>\n",
       "      <td>435.0000</td>\n",
       "      <td>647.00000</td>\n",
       "      <td>6445.0000</td>\n",
       "    </tr>\n",
       "    <tr>\n",
       "      <th>population</th>\n",
       "      <td>20640.0</td>\n",
       "      <td>1425.476744</td>\n",
       "      <td>1132.462122</td>\n",
       "      <td>3.0000</td>\n",
       "      <td>787.0000</td>\n",
       "      <td>1166.0000</td>\n",
       "      <td>1725.00000</td>\n",
       "      <td>35682.0000</td>\n",
       "    </tr>\n",
       "    <tr>\n",
       "      <th>households</th>\n",
       "      <td>20640.0</td>\n",
       "      <td>499.539680</td>\n",
       "      <td>382.329753</td>\n",
       "      <td>1.0000</td>\n",
       "      <td>280.0000</td>\n",
       "      <td>409.0000</td>\n",
       "      <td>605.00000</td>\n",
       "      <td>6082.0000</td>\n",
       "    </tr>\n",
       "    <tr>\n",
       "      <th>medianIncome</th>\n",
       "      <td>20640.0</td>\n",
       "      <td>3.870671</td>\n",
       "      <td>1.899822</td>\n",
       "      <td>0.4999</td>\n",
       "      <td>2.5634</td>\n",
       "      <td>3.5348</td>\n",
       "      <td>4.74325</td>\n",
       "      <td>15.0001</td>\n",
       "    </tr>\n",
       "    <tr>\n",
       "      <th>medianHouseValue</th>\n",
       "      <td>20640.0</td>\n",
       "      <td>206855.816909</td>\n",
       "      <td>115395.615874</td>\n",
       "      <td>14999.0000</td>\n",
       "      <td>119600.0000</td>\n",
       "      <td>179700.0000</td>\n",
       "      <td>264725.00000</td>\n",
       "      <td>500001.0000</td>\n",
       "    </tr>\n",
       "  </tbody>\n",
       "</table>\n",
       "</div>"
      ],
      "text/plain": [
       "                    count           mean            std         min  \\\n",
       "housingMedianAge  20640.0      28.639486      12.585558      1.0000   \n",
       "totalRooms        20640.0    2635.763081    2181.615252      2.0000   \n",
       "totalBedrooms     20640.0     537.898014     421.247906      1.0000   \n",
       "population        20640.0    1425.476744    1132.462122      3.0000   \n",
       "households        20640.0     499.539680     382.329753      1.0000   \n",
       "medianIncome      20640.0       3.870671       1.899822      0.4999   \n",
       "medianHouseValue  20640.0  206855.816909  115395.615874  14999.0000   \n",
       "\n",
       "                          25%          50%           75%          max  \n",
       "housingMedianAge      18.0000      29.0000      37.00000      52.0000  \n",
       "totalRooms          1447.7500    2127.0000    3148.00000   39320.0000  \n",
       "totalBedrooms        295.0000     435.0000     647.00000    6445.0000  \n",
       "population           787.0000    1166.0000    1725.00000   35682.0000  \n",
       "households           280.0000     409.0000     605.00000    6082.0000  \n",
       "medianIncome           2.5634       3.5348       4.74325      15.0001  \n",
       "medianHouseValue  119600.0000  179700.0000  264725.00000  500001.0000  "
      ]
     },
     "execution_count": 19,
     "metadata": {},
     "output_type": "execute_result"
    }
   ],
   "source": [
    "dataset.describe().transpose()"
   ]
  },
  {
   "cell_type": "markdown",
   "metadata": {},
   "source": [
    "#mean is at about 200.000 fix the model to get near that!"
   ]
  }
 ],
 "metadata": {
  "kernelspec": {
   "display_name": "Python 3",
   "language": "python",
   "name": "python3"
  },
  "language_info": {
   "codemirror_mode": {
    "name": "ipython",
    "version": 3
   },
   "file_extension": ".py",
   "mimetype": "text/x-python",
   "name": "python",
   "nbconvert_exporter": "python",
   "pygments_lexer": "ipython3",
   "version": "3.5.6"
  }
 },
 "nbformat": 4,
 "nbformat_minor": 2
}
