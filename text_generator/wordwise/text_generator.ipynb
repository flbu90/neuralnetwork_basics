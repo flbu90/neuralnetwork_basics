{
 "cells": [
  {
   "cell_type": "code",
   "execution_count": 17,
   "metadata": {},
   "outputs": [
    {
     "name": "stderr",
     "output_type": "stream",
     "text": [
      "[nltk_data] Downloading package punkt to\n",
      "[nltk_data]     C:\\Users\\Florian\\AppData\\Roaming\\nltk_data...\n",
      "[nltk_data]   Package punkt is already up-to-date!\n"
     ]
    },
    {
     "data": {
      "text/plain": [
       "True"
      ]
     },
     "execution_count": 17,
     "metadata": {},
     "output_type": "execute_result"
    }
   ],
   "source": [
    "import pickle\n",
    "from keras.models import load_model\n",
    "import numpy as np\n",
    "import nltk\n",
    "from nltk import word_tokenize\n",
    "\n",
    "nltk.download('punkt')\n"
   ]
  },
  {
   "cell_type": "code",
   "execution_count": 18,
   "metadata": {},
   "outputs": [],
   "source": [
    "# load mapping files\n",
    "with open(\"word_to_int.pickle\",\"rb\") as file:\n",
    "    word_to_int = pickle.load(file)\n",
    "\n",
    "with open(\"int_to_word.pickle\",\"rb\") as file:\n",
    "    int_to_word = pickle.load(file)\n",
    "\n",
    "# load model weights\n",
    "model = load_model(\"faust_model.hdf5\")"
   ]
  },
  {
   "cell_type": "code",
   "execution_count": 19,
   "metadata": {},
   "outputs": [],
   "source": [
    "# Get the dataset\n",
    "with open('faust.txt', encoding=\"utf_8\", mode='r') as file: # make sure its utf_8 encoding for german texts\n",
    "    full_text = file.read()\n",
    "\n",
    "# Manipulate the text like we did in the training model\n",
    "full_text = full_text.split(\"\\n\")[52:7052] \n",
    "full_text = [line.strip() for line in full_text] # get rid of \"  \" leading or tailing\n",
    "full_text = \"\\n\".join(full_text)\n",
    "full_text = full_text.replace(\"\\n\", \" \\\\n \") # keeps the \\n in when tokenizing so our networks learns to create \\n "
   ]
  },
  {
   "cell_type": "code",
   "execution_count": 20,
   "metadata": {},
   "outputs": [],
   "source": [
    "# Tokenize full text and transform to int using the mapping \n",
    "tokens = nltk.word_tokenize(full_text)\n",
    "tokens_transformed = [word_to_int[word] for word in tokens if word in word_to_int] \n",
    "\n",
    "sentence = tokens_transformed[100:140]"
   ]
  },
  {
   "cell_type": "code",
   "execution_count": 21,
   "metadata": {},
   "outputs": [
    {
     "name": "stdout",
     "output_type": "stream",
     "text": [
      "; \n",
      " Gleich einer alten , halbverklungnen Sage \n",
      " Kommt erste Lieb und Freundschaft mit herauf ; \n",
      " Der Schmerz wird neu , es wiederholt die Klage \n",
      " Des Lebens labyrinthisch irren Lauf , \n",
      " Und nennt die Guten ,\n"
     ]
    }
   ],
   "source": [
    "# Decode starting sentence for check\n",
    "print(\" \".join([int_to_word[i] for i in sentence]).replace(\"\\\\n\", \"\\n\"))"
   ]
  },
  {
   "cell_type": "code",
   "execution_count": 22,
   "metadata": {},
   "outputs": [
    {
     "name": "stdout",
     "output_type": "stream",
     "text": [
      "die Erde außen noch , \n",
      " Und wenn die Natur von allem Liebeslust , \n",
      " Und alle Geschmeide scholl nicht mehr \n",
      " Und wenn die Natur zu Unten hängen . \n",
      " \n",
      " FAUST : \n",
      " Ich bin das Schlückchen wohl behagen \n",
      " Ein braver Bilder ziehn im Leibe . \n",
      " \n",
      " STIMME ( von unten ) : \n",
      " Ach ! ich ertrag dich nicht ! \n",
      " \n",
      " MARGARETE : \n",
      " Ich bin das Heer und Liebe ! \n",
      " ( Er faßt eine Sternblume und zupft die Blätter gespielt , \n",
      " Die Menschen in Gedanken auf den wiederkehrenden Buch . ) "
     ]
    }
   ],
   "source": [
    "sentence = np.array(sentence)\n",
    "\n",
    "for i in range (0,100):\n",
    "    prediction = model.predict(sentence.reshape(1,40))\n",
    "    \n",
    "    word =  np.argmax(prediction[0])\n",
    "    print(int_to_word[word].replace(\"\\\\n\", \"\\n\"), end=\" \")\n",
    "    \n",
    "    sentence = np.append(sentence[1:],[word])"
   ]
  },
  {
   "cell_type": "code",
   "execution_count": null,
   "metadata": {},
   "outputs": [],
   "source": []
  }
 ],
 "metadata": {
  "kernelspec": {
   "display_name": "Python 3",
   "language": "python",
   "name": "python3"
  },
  "language_info": {
   "codemirror_mode": {
    "name": "ipython",
    "version": 3
   },
   "file_extension": ".py",
   "mimetype": "text/x-python",
   "name": "python",
   "nbconvert_exporter": "python",
   "pygments_lexer": "ipython3",
   "version": "3.6.10"
  }
 },
 "nbformat": 4,
 "nbformat_minor": 4
}
